{
 "cells": [
  {
   "cell_type": "markdown",
   "metadata": {},
   "source": [
    "# **Modelo predictivo de satisfacción en proyecto solidario**\n",
    "\n",
    "Datasets: https://drive.google.com/file/d/1pP523QcG0W4gHYq1NbNTZWVjW3xRdHwC/view?usp=sharing"
   ]
  },
  {
   "cell_type": "markdown",
   "metadata": {},
   "source": [
    "# Etapa 2: Comprensión y Preparación de los datos"
   ]
  },
  {
   "cell_type": "code",
   "execution_count": null,
   "metadata": {},
   "outputs": [],
   "source": [
    "# Librerías\n",
    "import pandas as pd\n",
    "import matplotlib.pyplot as plt\n",
    "import numpy as np\n",
    "import statistics"
   ]
  },
  {
   "cell_type": "code",
   "execution_count": null,
   "metadata": {},
   "outputs": [],
   "source": [
    "# Lectura de archivos\n",
    "d1 = pd.read_excel(\"Datos/Encuesta+a+Estudiantes+PS_17+de+mayo+de+2023_12.05.xlsx\", header=1)\n",
    "d2 = pd.read_excel(\"Datos/Estudiantes+PS_INV23+TEC21_17+de+mayo+de+2023_12.22.xlsx\", header=1)\n",
    "d3 = pd.read_excel(\"Datos/Estudiantes+PS+AD22+TEC21_17+de+mayo+de+2023_12.07.xlsx\", header=1)\n",
    "d4 = pd.read_excel(\"Datos/Estudiantes+PS+FJ22+TEC21_17+de+mayo+de+2023_12.17.xlsx\", header=1)\n",
    "d5 = pd.read_excel(\"Datos/Estudiantes+PS+FJ23_17+de+mayo+de+2023_12.28.xlsx\", header=1)"
   ]
  },
  {
   "cell_type": "markdown",
   "metadata": {},
   "source": [
    "## Unión de datos"
   ]
  },
  {
   "cell_type": "code",
   "execution_count": null,
   "metadata": {},
   "outputs": [],
   "source": [
    "# Unir datos\n",
    "raw_data = pd.concat([d1,d2,d3,d4,d5])\n",
    "\n",
    "# Comprobación de la unión\n",
    "print(len(d1)+len(d2)+len(d3)+len(d4)+len(d5)==len(raw_data))\n"
   ]
  },
  {
   "cell_type": "markdown",
   "metadata": {},
   "source": [
    "## Comprensión"
   ]
  },
  {
   "cell_type": "code",
   "execution_count": null,
   "metadata": {},
   "outputs": [],
   "source": [
    "# Exploración\n",
    "raw_data.info()"
   ]
  },
  {
   "cell_type": "code",
   "execution_count": null,
   "metadata": {},
   "outputs": [],
   "source": [
    "raw_data.describe()"
   ]
  },
  {
   "cell_type": "code",
   "execution_count": null,
   "metadata": {},
   "outputs": [],
   "source": [
    "# Cantidad de filas y columnas ANTES DE HACER LIMPIEZA\n",
    "raw_data.shape"
   ]
  },
  {
   "cell_type": "code",
   "execution_count": null,
   "metadata": {},
   "outputs": [],
   "source": [
    "# Valores de las columnas\n",
    "\"\"\"\n",
    "for i in raw_data:\n",
    "    print(i)\n",
    "    print(raw_data[i].unique())\n",
    "\"\"\""
   ]
  },
  {
   "cell_type": "markdown",
   "metadata": {},
   "source": [
    "## Limpieza de datos"
   ]
  },
  {
   "cell_type": "code",
   "execution_count": null,
   "metadata": {},
   "outputs": [],
   "source": [
    "# Si más del 50 % de la columna está vacía, se considera borrarla dependiendo de los datos que tenga.\n",
    "col_inutiles = []\n",
    "for i in raw_data:\n",
    "    if raw_data[i].isnull().sum()>=len(raw_data)*0.5:\n",
    "        col_inutiles.append(i)\n",
    "\n",
    "# Escogemos los índices de las columnas que eliminaremos porque no servirán para el análisis\n",
    "col_eliminar=[1, 2, 3, 6, 7, 8, 9, 10, 11, 12, 13, 14, 15, 35, 36, 39, 40, 41, 42]\n",
    "\n",
    "a = 0\n",
    "for i in col_eliminar:\n",
    "    col_eliminar[a]=raw_data.columns[i]\n",
    "    a+=1"
   ]
  },
  {
   "cell_type": "code",
   "execution_count": null,
   "metadata": {},
   "outputs": [],
   "source": [
    "# Eliminación de columnas no necesarias\n",
    "df = raw_data\n",
    "df = df.drop(labels=col_eliminar, axis=1)\n"
   ]
  },
  {
   "cell_type": "code",
   "execution_count": null,
   "metadata": {},
   "outputs": [],
   "source": [
    "nombres_nuevos = [\"Fecha\",\"Progreso\",\"Duración\",\"P1.1\",\"P1.2\",\"P1.3\",\"P1.4\",\"P1.5\",\"P1.6\",\"P1.7\",\"P1.8\",\"P2\",\"P3\",\"P4\",\"P5.1\",\"P5.2\",\"P5.3\",\"P5.4\",\"P6.1\",\"P6.2\",\"NomOSF_Experiencia\",\"OSF\",\"CRN\"]\n",
    "\n",
    "df = df.rename(columns = dict(zip(df.columns, nombres_nuevos)))\n",
    "df = df.drop(labels=0)# Dataframe unido con columnas renombradas\n"
   ]
  },
  {
   "cell_type": "code",
   "execution_count": null,
   "metadata": {},
   "outputs": [],
   "source": [
    "# Reemplazar valores de 5 y 1 en todas las columnas\n",
    "for i in df:\n",
    "    df[i] =df[i].replace({\n",
    "    \"\\n5 Totalmente de Acuerdo\": 5,\n",
    "    \"\\n5 Muy Satisfecho\": 5,\n",
    "    \" 4\": 4,\n",
    "    \" 3\": 3,\n",
    "    \" 2\": 2,\n",
    "    \"\\n1 Nada Satisfecho\": 1,\n",
    "    \"\\n1 Nada de Acuerdo\": 1\n",
    "    })\n",
    "\n",
    "df.head()"
   ]
  },
  {
   "cell_type": "markdown",
   "metadata": {},
   "source": [
    "## Exploración de datos limpios"
   ]
  },
  {
   "cell_type": "code",
   "execution_count": null,
   "metadata": {},
   "outputs": [],
   "source": [
    "# Cantidad de filas y columnas DESPUÉS DE HACER LIMPIEZA\n",
    "df.shape"
   ]
  },
  {
   "cell_type": "code",
   "execution_count": null,
   "metadata": {},
   "outputs": [],
   "source": [
    "df.describe()"
   ]
  },
  {
   "cell_type": "code",
   "execution_count": null,
   "metadata": {},
   "outputs": [],
   "source": [
    "df.dtypes"
   ]
  },
  {
   "cell_type": "code",
   "execution_count": null,
   "metadata": {},
   "outputs": [],
   "source": [
    "df.info()"
   ]
  },
  {
   "cell_type": "code",
   "execution_count": null,
   "metadata": {},
   "outputs": [],
   "source": [
    "no_terminados=df[df[\"Progreso\"]<100]\n",
    "no_terminados"
   ]
  },
  {
   "cell_type": "code",
   "execution_count": null,
   "metadata": {},
   "outputs": [],
   "source": []
  },
  {
   "cell_type": "code",
   "execution_count": null,
   "metadata": {},
   "outputs": [],
   "source": []
  },
  {
   "cell_type": "code",
   "execution_count": null,
   "metadata": {},
   "outputs": [],
   "source": []
  }
 ],
 "metadata": {
  "kernelspec": {
   "display_name": "Python 3 (ipykernel)",
   "language": "python",
   "name": "python3"
  },
  "language_info": {
   "codemirror_mode": {
    "name": "ipython",
    "version": 3
   },
   "file_extension": ".py",
   "mimetype": "text/x-python",
   "name": "python",
   "nbconvert_exporter": "python",
   "pygments_lexer": "ipython3",
   "version": "3.9.13"
  }
 },
 "nbformat": 4,
 "nbformat_minor": 4
}
